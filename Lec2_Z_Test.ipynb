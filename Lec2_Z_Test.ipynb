{
  "nbformat": 4,
  "nbformat_minor": 0,
  "metadata": {
    "colab": {
      "provenance": [],
      "include_colab_link": true
    },
    "kernelspec": {
      "name": "python3",
      "display_name": "Python 3"
    },
    "language_info": {
      "name": "python"
    }
  },
  "cells": [
    {
      "cell_type": "markdown",
      "metadata": {
        "id": "view-in-github",
        "colab_type": "text"
      },
      "source": [
        "<a href=\"https://colab.research.google.com/github/django-fir/Data-Science-Work/blob/main/Lec2_Z_Test.ipynb\" target=\"_parent\"><img src=\"https://colab.research.google.com/assets/colab-badge.svg\" alt=\"Open In Colab\"/></a>"
      ]
    },
    {
      "cell_type": "code",
      "execution_count": 1,
      "metadata": {
        "id": "E7XX4l2HHbMD"
      },
      "outputs": [],
      "source": [
        "import numpy as np\n",
        "from scipy.stats import norm"
      ]
    },
    {
      "cell_type": "code",
      "source": [
        "#Firm A"
      ],
      "metadata": {
        "id": "jQLD8TeXCBoe"
      },
      "execution_count": null,
      "outputs": []
    },
    {
      "cell_type": "code",
      "source": [
        "z = (1850-1800)/(100/np.sqrt(50))\n",
        "z"
      ],
      "metadata": {
        "colab": {
          "base_uri": "https://localhost:8080/"
        },
        "id": "IuQIMXqxAD9P",
        "outputId": "0a4c5b7b-b5a4-49d9-c5ea-71b99031fa55"
      },
      "execution_count": null,
      "outputs": [
        {
          "output_type": "execute_result",
          "data": {
            "text/plain": [
              "3.5355339059327378"
            ]
          },
          "metadata": {},
          "execution_count": 2
        }
      ]
    },
    {
      "cell_type": "code",
      "source": [
        "pval = 1 - norm.cdf(z)\n",
        "pval"
      ],
      "metadata": {
        "colab": {
          "base_uri": "https://localhost:8080/"
        },
        "id": "dUkjvxNVAMVz",
        "outputId": "5f8d4da3-6ff7-4d48-e8b4-6567ccc205d2"
      },
      "execution_count": null,
      "outputs": [
        {
          "output_type": "execute_result",
          "data": {
            "text/plain": [
              "0.00020347600872250293"
            ]
          },
          "metadata": {},
          "execution_count": 3
        }
      ]
    },
    {
      "cell_type": "code",
      "source": [
        "alpha = 0.01\n",
        "if pval < alpha:\n",
        "  print(\"Reject the null hypothesis\")\n",
        "else:\n",
        "  print(\"Fail to reject the null hypothesis\")"
      ],
      "metadata": {
        "colab": {
          "base_uri": "https://localhost:8080/"
        },
        "id": "43PzXl1ZAR_C",
        "outputId": "9f2b7252-9f38-4c27-8330-b3b98fee997e"
      },
      "execution_count": null,
      "outputs": [
        {
          "output_type": "stream",
          "name": "stdout",
          "text": [
            "Reject the null hypothesis\n"
          ]
        }
      ]
    },
    {
      "cell_type": "code",
      "source": [
        "#Firm B"
      ],
      "metadata": {
        "id": "KFVbdoBnAVng"
      },
      "execution_count": null,
      "outputs": []
    },
    {
      "cell_type": "code",
      "source": [
        "z = (1900-1800)/(100/np.sqrt(5))\n",
        "z"
      ],
      "metadata": {
        "colab": {
          "base_uri": "https://localhost:8080/"
        },
        "id": "rG5Pq4scCC3X",
        "outputId": "de53a069-11bc-4042-868b-4a2215ad2142"
      },
      "execution_count": null,
      "outputs": [
        {
          "output_type": "execute_result",
          "data": {
            "text/plain": [
              "2.23606797749979"
            ]
          },
          "metadata": {},
          "execution_count": 5
        }
      ]
    },
    {
      "cell_type": "code",
      "source": [
        "pval = 1 - norm.cdf(z)\n",
        "pval"
      ],
      "metadata": {
        "colab": {
          "base_uri": "https://localhost:8080/"
        },
        "id": "fS-TYKwLCGvm",
        "outputId": "c26458ba-1eb1-46f6-a3f6-2e05e55036b1"
      },
      "execution_count": null,
      "outputs": [
        {
          "output_type": "execute_result",
          "data": {
            "text/plain": [
              "0.0126736593387341"
            ]
          },
          "metadata": {},
          "execution_count": 6
        }
      ]
    },
    {
      "cell_type": "code",
      "source": [
        "alpha = 0.01\n",
        "if pval < alpha:\n",
        "  print(\"Reject the null hypothesis\")\n",
        "else:\n",
        "  print(\"Fail to reject the null hypothesis\")"
      ],
      "metadata": {
        "colab": {
          "base_uri": "https://localhost:8080/"
        },
        "id": "00v_iOTTCIT9",
        "outputId": "394dc39c-296f-4aa4-f810-18d423d7b8ac"
      },
      "execution_count": null,
      "outputs": [
        {
          "output_type": "stream",
          "name": "stdout",
          "text": [
            "Fail to reject the null hypothesis\n"
          ]
        }
      ]
    },
    {
      "cell_type": "code",
      "source": [
        "#Quiz 4\n",
        "\n",
        "# Given information\n",
        "population_mean =  8000 # average steps per day\n",
        "population_std_dev = 1200  # standard deviation\n",
        "sample_size = 30  # sample size\n",
        "sample_mean = 7600  # sample mean\n",
        "alpha = 0.05 # significance level"
      ],
      "metadata": {
        "id": "1hXtBQXrCK-E"
      },
      "execution_count": null,
      "outputs": []
    },
    {
      "cell_type": "code",
      "source": [
        "# Calculate the z-score\n",
        "z_score = (sample_mean - population_mean) / (population_std_dev / np.sqrt(sample_size))\n",
        "\n",
        "# calculate p value\n",
        "pval = norm.cdf(z_score)"
      ],
      "metadata": {
        "id": "mDT1yLQ-DU6S",
        "outputId": "a794d378-6fa2-49dd-fa98-b8db99e97dba",
        "colab": {
          "base_uri": "https://localhost:8080/",
          "height": 269
        }
      },
      "execution_count": null,
      "outputs": [
        {
          "output_type": "error",
          "ename": "NameError",
          "evalue": "name 'sample_mean' is not defined",
          "traceback": [
            "\u001b[0;31m---------------------------------------------------------------------------\u001b[0m",
            "\u001b[0;31mNameError\u001b[0m                                 Traceback (most recent call last)",
            "\u001b[0;32m<ipython-input-1-64141dd66ecd>\u001b[0m in \u001b[0;36m<cell line: 2>\u001b[0;34m()\u001b[0m\n\u001b[1;32m      1\u001b[0m \u001b[0;31m# Calculate the z-score\u001b[0m\u001b[0;34m\u001b[0m\u001b[0;34m\u001b[0m\u001b[0m\n\u001b[0;32m----> 2\u001b[0;31m \u001b[0mz_score\u001b[0m \u001b[0;34m=\u001b[0m \u001b[0;34m(\u001b[0m\u001b[0msample_mean\u001b[0m \u001b[0;34m-\u001b[0m \u001b[0mpopulation_mean\u001b[0m\u001b[0;34m)\u001b[0m \u001b[0;34m/\u001b[0m \u001b[0;34m(\u001b[0m\u001b[0mpopulation_std_dev\u001b[0m \u001b[0;34m/\u001b[0m \u001b[0mnp\u001b[0m\u001b[0;34m.\u001b[0m\u001b[0msqrt\u001b[0m\u001b[0;34m(\u001b[0m\u001b[0msample_size\u001b[0m\u001b[0;34m)\u001b[0m\u001b[0;34m)\u001b[0m\u001b[0;34m\u001b[0m\u001b[0;34m\u001b[0m\u001b[0m\n\u001b[0m\u001b[1;32m      3\u001b[0m \u001b[0;34m\u001b[0m\u001b[0m\n\u001b[1;32m      4\u001b[0m \u001b[0;31m# calculate p value\u001b[0m\u001b[0;34m\u001b[0m\u001b[0;34m\u001b[0m\u001b[0m\n\u001b[1;32m      5\u001b[0m \u001b[0mpval\u001b[0m \u001b[0;34m=\u001b[0m \u001b[0mnorm\u001b[0m\u001b[0;34m.\u001b[0m\u001b[0mcdf\u001b[0m\u001b[0;34m(\u001b[0m\u001b[0mz_score\u001b[0m\u001b[0;34m)\u001b[0m\u001b[0;34m\u001b[0m\u001b[0;34m\u001b[0m\u001b[0m\n",
            "\u001b[0;31mNameError\u001b[0m: name 'sample_mean' is not defined"
          ]
        }
      ]
    },
    {
      "cell_type": "code",
      "source": [
        "# Compare the calculated z-score with the critical z-value\n",
        "if pval < alpha:\n",
        "    conclusion = \"Reject the null hypothesis.\"\n",
        "else:\n",
        "    conclusion = \"Fail to reject the null hypothesis.\"\n",
        "\n",
        "print(\"z-score:\", z_score)\n",
        "print(\"p-value:\", pval)\n",
        "print(conclusion)"
      ],
      "metadata": {
        "colab": {
          "base_uri": "https://localhost:8080/"
        },
        "id": "TeSfvsC1DhkL",
        "outputId": "256b3fc6-7637-4df0-98a7-e3402f746878"
      },
      "execution_count": null,
      "outputs": [
        {
          "output_type": "stream",
          "name": "stdout",
          "text": [
            "z-score: -1.8257418583505536\n",
            "p-value: 0.033944577430914516\n",
            "Reject the null hypothesis.\n"
          ]
        }
      ]
    },
    {
      "cell_type": "code",
      "source": [
        "#Critical value method (x <-critical value)\n",
        "#Firm A"
      ],
      "metadata": {
        "id": "XdBTfNpnDliI"
      },
      "execution_count": null,
      "outputs": []
    },
    {
      "cell_type": "code",
      "source": [
        "z = norm.ppf(0.99)\n",
        "z"
      ],
      "metadata": {
        "colab": {
          "base_uri": "https://localhost:8080/"
        },
        "id": "ZmP0tcsKHpQD",
        "outputId": "f9c66629-5fc4-4f3a-eb84-b21da446df90"
      },
      "execution_count": null,
      "outputs": [
        {
          "output_type": "execute_result",
          "data": {
            "text/plain": [
              "2.3263478740408408"
            ]
          },
          "metadata": {},
          "execution_count": 12
        }
      ]
    },
    {
      "cell_type": "code",
      "source": [
        "x = (z*(100/np.sqrt(50))) + 1800\n",
        "x"
      ],
      "metadata": {
        "colab": {
          "base_uri": "https://localhost:8080/"
        },
        "id": "2BxRM1WWHrtc",
        "outputId": "8a85c2b7-3abd-4191-a920-543dfb51c286"
      },
      "execution_count": null,
      "outputs": [
        {
          "output_type": "execute_result",
          "data": {
            "text/plain": [
              "1832.8995271426638"
            ]
          },
          "metadata": {},
          "execution_count": 13
        }
      ]
    },
    {
      "cell_type": "code",
      "source": [
        "#Firm B"
      ],
      "metadata": {
        "id": "BFXHPrq8HzXR"
      },
      "execution_count": null,
      "outputs": []
    },
    {
      "cell_type": "code",
      "source": [
        "x = (z*(100/np.sqrt(5))) + 1800\n",
        "x"
      ],
      "metadata": {
        "colab": {
          "base_uri": "https://localhost:8080/"
        },
        "id": "8_3aT8-7IEFj",
        "outputId": "2ea4f320-4d14-4cfe-ad2d-69d3e6b178b0"
      },
      "execution_count": null,
      "outputs": [
        {
          "output_type": "execute_result",
          "data": {
            "text/plain": [
              "1904.0374397133487"
            ]
          },
          "metadata": {},
          "execution_count": 15
        }
      ]
    },
    {
      "cell_type": "code",
      "source": [
        "#Quiz 5"
      ],
      "metadata": {
        "id": "OHKR2OpJIKD0"
      },
      "execution_count": null,
      "outputs": []
    },
    {
      "cell_type": "code",
      "source": [
        "z = norm.ppf(0.95)\n",
        "z"
      ],
      "metadata": {
        "colab": {
          "base_uri": "https://localhost:8080/"
        },
        "id": "H04OyXfuI6fv",
        "outputId": "16b7253f-5b52-44e2-cd2a-bc00458d5972"
      },
      "execution_count": null,
      "outputs": [
        {
          "output_type": "execute_result",
          "data": {
            "text/plain": [
              "1.6448536269514722"
            ]
          },
          "metadata": {},
          "execution_count": 17
        }
      ]
    },
    {
      "cell_type": "code",
      "source": [
        "x = (z*15)+60\n",
        "x"
      ],
      "metadata": {
        "colab": {
          "base_uri": "https://localhost:8080/"
        },
        "id": "laKOkLo1JAS1",
        "outputId": "48580ed2-bdd9-40df-8e67-2f5aa8a1fe03"
      },
      "execution_count": null,
      "outputs": [
        {
          "output_type": "execute_result",
          "data": {
            "text/plain": [
              "84.67280440427209"
            ]
          },
          "metadata": {},
          "execution_count": 18
        }
      ]
    },
    {
      "cell_type": "code",
      "source": [
        "#Confidence Interval :"
      ],
      "metadata": {
        "id": "CgNzSljuJMSU"
      },
      "execution_count": null,
      "outputs": []
    },
    {
      "cell_type": "code",
      "source": [
        "#Firm A"
      ],
      "metadata": {
        "id": "4ZV8guH1KIhR"
      },
      "execution_count": null,
      "outputs": []
    },
    {
      "cell_type": "code",
      "source": [
        "# Given data\n",
        "population_mean = 1800\n",
        "sample_mean = 1850\n",
        "population_stddev = 100\n",
        "sample_size = np.sqrt(50)\n",
        "alpha = 0.01  # Significance level (1 - alpha will give us the confidence level)\n",
        "\n",
        "# Calculate the critical value (Z) for a right-tailed test at the given alpha level\n",
        "z_critical = norm.ppf(1 - alpha)\n",
        "\n",
        "# Calculate the margin of error\n",
        "margin_of_error = z_critical * (population_stddev / sample_size)\n",
        "\n",
        "# Calculate the confidence interval\n",
        "confidence_interval = (sample_mean - margin_of_error, sample_mean + margin_of_error)\n",
        "\n",
        "print(\"Confidence Interval:\", confidence_interval)\n",
        "\n",
        "\n",
        "# Check if the population mean (1800) falls within the confidence interval\n",
        "\n",
        "if confidence_interval[0] <= population_mean <= confidence_interval[1]:\n",
        "    print(\"The population mean falls within the confidence interval. Then we fail to reject the null hypothesis\")\n",
        "else:\n",
        "    print(\"The population mean does not fall within the confidence interval. Then we reject the null hypothesis\")"
      ],
      "metadata": {
        "colab": {
          "base_uri": "https://localhost:8080/"
        },
        "id": "nVXpvJRcKMXU",
        "outputId": "56635a53-7c2b-44ee-c649-8767b35af299"
      },
      "execution_count": null,
      "outputs": [
        {
          "output_type": "stream",
          "name": "stdout",
          "text": [
            "Confidence Interval: (1817.1004728573362, 1882.8995271426638)\n",
            "The population mean does not fall within the confidence interval. Then we reject the null hypothesis\n"
          ]
        }
      ]
    },
    {
      "cell_type": "code",
      "source": [
        "#Firm B"
      ],
      "metadata": {
        "id": "qSadi7CoKoHo"
      },
      "execution_count": null,
      "outputs": []
    },
    {
      "cell_type": "code",
      "source": [
        "\n",
        "# Given data\n",
        "population_mean = 1800\n",
        "sample_mean = 1900\n",
        "population_stddev = 100\n",
        "sample_size = np.sqrt(5)\n",
        "alpha = 0.01  # Significance level (1 - alpha will give us the confidence level)\n",
        "\n",
        "# Calculate the critical value (Z) for a right-tailed test at the given alpha level\n",
        "z_critical = norm.ppf(1 - alpha)\n",
        "\n",
        "# Calculate the margin of error\n",
        "margin_of_error = z_critical * (population_stddev / sample_size)\n",
        "\n",
        "# Calculate the confidence interval\n",
        "confidence_interval = (sample_mean - margin_of_error, sample_mean + margin_of_error)\n",
        "\n",
        "print(\"Confidence Interval:\", confidence_interval)\n",
        "\n",
        "\n",
        "# Check if the population mean (1800) falls within the confidence interval\n",
        "\n",
        "if confidence_interval[0] <= population_mean <= confidence_interval[1]:\n",
        "    print(\"The population mean falls within the confidence interval. Then we fail to reject the null hypothesis\")\n",
        "else:\n",
        "    print(\"The population mean does not fall within the confidence interval. Then we reject the null hypothesis\")"
      ],
      "metadata": {
        "colab": {
          "base_uri": "https://localhost:8080/"
        },
        "id": "iRCtxwEhKzIp",
        "outputId": "b8dd8b49-8d7e-40a6-aeda-d7a1871c1d5d"
      },
      "execution_count": null,
      "outputs": [
        {
          "output_type": "stream",
          "name": "stdout",
          "text": [
            "Confidence Interval: (1795.9625602866513, 2004.0374397133487)\n",
            "The population mean falls within the confidence interval. Then we fail to reject the null hypothesis\n"
          ]
        }
      ]
    },
    {
      "cell_type": "code",
      "source": [
        "#Effect size\n",
        "#Power of Test\n",
        "\n",
        "from scipy import stats"
      ],
      "metadata": {
        "id": "1OgZ3cthK5Yo"
      },
      "execution_count": null,
      "outputs": []
    },
    {
      "cell_type": "code",
      "source": [
        "from statsmodels.stats import power\n",
        "\n",
        "# Given data\n",
        "alpha = 0.05  # Significance level (for a two-tailed test)\n",
        "confidence_level = 1 - (alpha / 2)  # 95% confidence level\n",
        "sample_size = 30  # Number of chocolate bars in the sample\n",
        "\n",
        "# Calculate the z-critical value for a 5% significance level (as you did previously)\n",
        "z_critical = np.abs(round(stats.norm.ppf(1 - alpha/2), 4))\n",
        "\n",
        "# Calculate the sample mean (average weight of the chocolate bars)\n",
        "data = [55, 45, 52, 48, 55, 52, 52, 53, 48, 52, 53, 47, 54, 51, 52, 51, 48, 52, 53, 54, 51, 51, 52, 54, 47, 52, 53, 48, 51, 54]\n",
        "samp_mean = np.mean(data)\n",
        "samp_std = np.std(data)\n",
        "\n",
        "# Null hypothesis value (standard weight)\n",
        "hypo_mean = 50\n",
        "\n",
        "# Calculate the effect size (difference between sample mean and hypothesized mean)\n",
        "effect_size = (samp_mean - hypo_mean) / samp_std\n",
        "print(\"Effect size:\",effect_size)\n",
        "\n",
        "# Use 'zt_ind_solve_power()' to calculate the power of the z-test\n",
        "# ratio=0 it implies that the function assumes equal sample sizes in both groups.\n",
        "# In other words, it assumes that the number of observations in the two groups being compared is the same.\n",
        "power = power.zt_ind_solve_power(effect_size=effect_size,\n",
        "                                 nobs1=sample_size,\n",
        "                                 alpha=alpha,\n",
        "                                 ratio=0,\n",
        "                                 alternative='two-sided')\n",
        "\n",
        "print('Power of the test:', power)"
      ],
      "metadata": {
        "colab": {
          "base_uri": "https://localhost:8080/"
        },
        "id": "WcRce_46O1FW",
        "outputId": "c997ffb9-adcb-4136-e36f-9009ca357f02"
      },
      "execution_count": null,
      "outputs": [
        {
          "output_type": "stream",
          "name": "stdout",
          "text": [
            "Effect size: 0.5261336417646574\n",
            "Power of the test: 0.8216812302268112\n"
          ]
        }
      ]
    },
    {
      "cell_type": "code",
      "source": [
        "#Assinments"
      ],
      "metadata": {
        "id": "xJWi_xmhPS7M"
      },
      "execution_count": null,
      "outputs": []
    }
  ]
}